{
 "cells": [
  {
   "cell_type": "markdown",
   "id": "5598b7cb",
   "metadata": {},
   "source": [
    "# Notebook for cleaning the electricity production data"
   ]
  },
  {
   "cell_type": "markdown",
   "id": "e313631e",
   "metadata": {},
   "source": [
    "Read data from the csv-files. Original data was xls-files, but there was something wrong with the file format. It seems that it was actually an HTML file and not a proper xls-file. We manually converted to xls-files in to csv-files in order to be able to read them."
   ]
  },
  {
   "cell_type": "code",
   "execution_count": 1,
   "id": "d3b0ddb4",
   "metadata": {},
   "outputs": [
    {
     "name": "stdout",
     "output_type": "stream",
     "text": [
      "  Unnamed: 0    Hours       NO       SE      FI      DK   Nordic      EE  \\\n",
      "0   1.1.2016  00�-�01  16764.0  18054.0  7964.0  2914.0  45697.0  1041.0   \n",
      "\n",
      "      LV     LT  Baltic  \n",
      "0  436.0  252.0  1729.0  \n",
      "  Unnamed: 0    Hours       NO       SE      FI      DK   Nordic     EE  \\\n",
      "0   1.1.2017  00�-�01  12316.0  16898.0  7079.0  4425.0  40717.0  841.0   \n",
      "\n",
      "      LV     LT  Baltic  \n",
      "0  240.0  396.0  1477.0  \n",
      "  Unnamed: 0    Hours       NO       SE      FI      DK   Nordic     EE  \\\n",
      "0   1.1.2018  00�-�01  14131.0  18029.0  8050.0  3583.0  43793.0  944.0   \n",
      "\n",
      "      LV     LT  Baltic  \n",
      "0  496.0  617.0  2057.0  \n",
      "  Unnamed: 0    Hours       NO       SE      FI      DK   Nordic     EE  \\\n",
      "0   1.1.2019  00�-�01  11408.0  17979.0  8345.0  4344.0  42077.0  852.0   \n",
      "\n",
      "      LV     LT  Baltic  \n",
      "0  271.0  593.0  1716.0  \n",
      "  Unnamed: 0    Hours       NO       SE      FI      DK   Nordic     EE  \\\n",
      "0   1.1.2020  00�-�01  16935.0  18666.0  8078.0  3532.0  47211.0  405.0   \n",
      "\n",
      "      LV     LT  Baltic  \n",
      "0  211.0  428.0  1044.0  \n",
      "  Unnamed: 0    Hours       NO       SE      FI      DK   Nordic     EE  \\\n",
      "0   1.1.2021  00�-�01  21362.0  19851.0  6989.0  2745.0  50946.0  309.0   \n",
      "\n",
      "      LV     LT  Baltic  \n",
      "0  206.0  207.0   722.0  \n"
     ]
    }
   ],
   "source": [
    "import pandas as pd\n",
    "\n",
    "production_2016 = pd.read_csv('.\\\\data\\\\production-per-country_2016_hourly.csv', delimiter=';')\n",
    "production_2017 = pd.read_csv('.\\\\data\\\\production-per-country_2017_hourly.csv', delimiter=';')\n",
    "production_2018 = pd.read_csv('.\\\\data\\\\production-per-country_2018_hourly.csv', delimiter=';')\n",
    "production_2019 = pd.read_csv('.\\\\data\\\\production-per-country_2019_hourly.csv', delimiter=';')\n",
    "production_2020 = pd.read_csv('.\\\\data\\\\production-per-country_2020_hourly.csv', delimiter=';')\n",
    "production_2021 = pd.read_csv('.\\\\data\\\\production-per-country_2021_hourly.csv', delimiter=';')\n",
    "\n",
    "print(production_2016.head(1))\n",
    "print(production_2017.head(1))\n",
    "print(production_2018.head(1))\n",
    "print(production_2019.head(1))\n",
    "print(production_2020.head(1))\n",
    "print(production_2021.head(1))\n"
   ]
  },
  {
   "cell_type": "markdown",
   "id": "ec42857a",
   "metadata": {},
   "source": [
    "Keep datetime information and filter out other than Finnish production data."
   ]
  },
  {
   "cell_type": "code",
   "execution_count": 2,
   "id": "16c78ba6",
   "metadata": {},
   "outputs": [
    {
     "name": "stdout",
     "output_type": "stream",
     "text": [
      "        Date    Hours  PRODUCTION (MWh)\n",
      "0 2016-01-01  00�-�01            7964.0\n",
      "(49685, 3)\n"
     ]
    }
   ],
   "source": [
    "from datetime import datetime as dt\n",
    "\n",
    "# rename date information column\n",
    "production_2016 = production_2016.rename(columns={'Unnamed: 0':'Date'})\n",
    "production_2017 = production_2017.rename(columns={'Unnamed: 0':'Date'})\n",
    "production_2018 = production_2018.rename(columns={'Unnamed: 0':'Date'})\n",
    "production_2019 = production_2019.rename(columns={'Unnamed: 0':'Date'})\n",
    "production_2020 = production_2020.rename(columns={'Unnamed: 0':'Date'})\n",
    "production_2021 = production_2021.rename(columns={'Unnamed: 0':'Date'})\n",
    "\n",
    "\n",
    "# keep only columns that are needed\n",
    "production_2016 = production_2016[['Date', 'Hours', 'FI']]\n",
    "production_2017 = production_2017[['Date', 'Hours', 'FI']]\n",
    "production_2018 = production_2018[['Date', 'Hours', 'FI']]\n",
    "production_2019 = production_2019[['Date', 'Hours', 'FI']]\n",
    "production_2020 = production_2020[['Date', 'Hours', 'FI']]\n",
    "production_2021 = production_2021[['Date', 'Hours', 'FI']]\n",
    "\n",
    "# concat data\n",
    "df = pd.concat([\n",
    "    production_2016, \n",
    "    production_2017, \n",
    "    production_2018, \n",
    "    production_2019, \n",
    "    production_2020, \n",
    "    production_2021]\n",
    ")\n",
    "\n",
    "# rename consumption column\n",
    "df = df.rename(columns={'FI':'PRODUCTION (MWh)'})\n",
    "\n",
    "# drop rows where date is more than 31.8.2021\n",
    "df['Date'] = pd.to_datetime(df['Date'], format='%d.%m.%Y')\n",
    "end = dt.strptime('01.09.2021', '%d.%m.%Y')\n",
    "df = df[df['Date'] < end]\n",
    "\n",
    "print(df.head(1))\n",
    "print(df.shape)"
   ]
  },
  {
   "cell_type": "markdown",
   "id": "8a4a1622",
   "metadata": {},
   "source": [
    "Clean the Hours column data. The data is in hh-hh format, but we would like the format in 0-23. So we only need the starting hour of the one hour time interval."
   ]
  },
  {
   "cell_type": "code",
   "execution_count": 3,
   "id": "bd22cddc",
   "metadata": {},
   "outputs": [
    {
     "name": "stdout",
     "output_type": "stream",
     "text": [
      "        Date  Hour  PRODUCTION (MWh)\n",
      "0 2016-01-01     0            7964.0\n",
      "(49685, 3)\n"
     ]
    }
   ],
   "source": [
    "try:\n",
    "    df['Hours'] = df['Hours'].map(lambda hours_str: int(hours_str[0:2]))\n",
    "    df = df.rename(columns={'Hours':'Hour'})\n",
    "except:\n",
    "    pass\n",
    "    \n",
    "print(df.head(1))\n",
    "print(df.shape)"
   ]
  },
  {
   "cell_type": "markdown",
   "id": "edf27cb4",
   "metadata": {},
   "source": [
    "Write the clean data into csv-file."
   ]
  },
  {
   "cell_type": "code",
   "execution_count": 4,
   "id": "578a6257",
   "metadata": {},
   "outputs": [
    {
     "name": "stdout",
     "output_type": "stream",
     "text": [
      "Success\n"
     ]
    }
   ],
   "source": [
    "df.to_csv('electricity-production-FI_2016-2021_hourly.csv', sep=';', encoding='utf-8', index=False)\n",
    "print('Success')"
   ]
  },
  {
   "cell_type": "code",
   "execution_count": null,
   "id": "4694d8dc",
   "metadata": {},
   "outputs": [],
   "source": []
  }
 ],
 "metadata": {
  "kernelspec": {
   "display_name": "Python 3",
   "language": "python",
   "name": "python3"
  },
  "language_info": {
   "codemirror_mode": {
    "name": "ipython",
    "version": 3
   },
   "file_extension": ".py",
   "mimetype": "text/x-python",
   "name": "python",
   "nbconvert_exporter": "python",
   "pygments_lexer": "ipython3",
   "version": "3.8.8"
  }
 },
 "nbformat": 4,
 "nbformat_minor": 5
}

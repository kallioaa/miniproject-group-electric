{
 "cells": [
  {
   "cell_type": "code",
   "execution_count": 94,
   "id": "406dc326-7a7f-4d4b-91dc-15c1cfeb28ae",
   "metadata": {},
   "outputs": [],
   "source": [
    "import pandas as pd"
   ]
  },
  {
   "cell_type": "code",
   "execution_count": 119,
   "id": "4932d40f-29ce-4fb5-b015-92505d989db0",
   "metadata": {},
   "outputs": [],
   "source": [
    "# Reading all station and theri metadatas to lists\n",
    "\n",
    "station_names = [\"Joensuu_Linnunlahti\", \"Jomala_Maarianhamina_lentoasema\", \"Jyväskylä_lentoasema\", \"Kajaani_lentoasema\", \"Kuusamo_lentoasema\", \"Pori_lentoasema\", \"Raahe_Lapaluoto_satama\", \"Siilinjärvi_Kuopio_lentoasema\", \n",
    "                \"Sodankylä_Lokka\", \"Turku_lentoasema\"]\n",
    "\n",
    "all_values = []\n",
    "all_metas = []\n",
    "\n",
    "for station_name in station_names:\n",
    "    values = pd.read_csv(\"raw_data/\" + station_name + \".csv\")\n",
    "    meta = pd.read_csv(\"raw_data/\" + station_name + \"_meta.csv\")\n",
    "    all_values.append(values)\n",
    "    all_metas.append(meta)\n",
    "    "
   ]
  },
  {
   "cell_type": "code",
   "execution_count": 120,
   "id": "4a5fa000-208b-4687-98d8-1d1003a68488",
   "metadata": {},
   "outputs": [],
   "source": [
    "# all columns to lowercase and spaces removed\n",
    "\n",
    "def remove_spaces_and_lower(df):\n",
    "    old_columns = df.columns\n",
    "    new_columns = [column.replace(\" \", \"_\").lower() for column in old_columns]\n",
    "    columns_dict = {old_name: new_name for old_name, new_name in zip(old_columns, new_columns)}\n",
    "    df.rename(columns=columns_dict, inplace=True)\n",
    "\n",
    "for values in all_values:\n",
    "    remove_spaces_and_lower(values)\n",
    "    \n",
    "for meta in all_metas:\n",
    "    remove_spaces_and_lower(meta)"
   ]
  },
  {
   "cell_type": "code",
   "execution_count": 121,
   "id": "f96262b0-092a-4010-85f8-044954dd186b",
   "metadata": {},
   "outputs": [],
   "source": [
    "# droping useless columns from metadata\n",
    "\n",
    "for meta in all_metas:\n",
    "    meta.drop(columns=[\"time_from\", \"time_to\", \"data_creation_time\"], inplace=True)"
   ]
  },
  {
   "cell_type": "code",
   "execution_count": 122,
   "id": "a95cfc29-1888-4d54-8586-31791fe0e63b",
   "metadata": {},
   "outputs": [],
   "source": [
    "# combining values and metadata\n",
    "\n",
    "for values, meta in zip(all_values, all_metas):\n",
    "    for meta_column in meta.columns:\n",
    "        values[meta_column] = meta[meta_column][0]"
   ]
  },
  {
   "cell_type": "code",
   "execution_count": 133,
   "id": "a354684d-f054-4628-9832-6328531332ac",
   "metadata": {},
   "outputs": [],
   "source": [
    "# one dataframe with all data\n",
    "columns_results_df = all_values[0].columns\n",
    "result_df = pd.DataFrame(columns=columns_results_df)\n",
    "\n",
    "# appending all dataframes to result df\n",
    "\n",
    "for values in all_values:\n",
    "    result_df = result_df.append(values)"
   ]
  },
  {
   "cell_type": "code",
   "execution_count": 135,
   "id": "f8e7b0f4-508c-45bd-9e66-52260d6ad444",
   "metadata": {},
   "outputs": [],
   "source": [
    "# writing the result to csv\n",
    "\n",
    "result_df.to_csv('weather_data_10_stations_2016_2017.csv', sep=';', encoding='utf-8', index=False)"
   ]
  }
 ],
 "metadata": {
  "kernelspec": {
   "display_name": "Python 3 (ipykernel)",
   "language": "python",
   "name": "python3"
  },
  "language_info": {
   "codemirror_mode": {
    "name": "ipython",
    "version": 3
   },
   "file_extension": ".py",
   "mimetype": "text/x-python",
   "name": "python",
   "nbconvert_exporter": "python",
   "pygments_lexer": "ipython3",
   "version": "3.9.7"
  }
 },
 "nbformat": 4,
 "nbformat_minor": 5
}

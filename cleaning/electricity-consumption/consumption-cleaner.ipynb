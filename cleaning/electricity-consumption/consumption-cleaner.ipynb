{
 "cells": [
  {
   "cell_type": "markdown",
   "id": "5598b7cb",
   "metadata": {},
   "source": [
    "# Notebook for cleaning the electricity consumption data"
   ]
  },
  {
   "cell_type": "markdown",
   "id": "e313631e",
   "metadata": {},
   "source": [
    "Read data from the csv-files. Original data was xls-files, but there was something wrong with the file format. It seems that it was actually an HTML file and not a proper xls-file. We manually converted to xls-files in to csv-files in order to be able to read them."
   ]
  },
  {
   "cell_type": "code",
   "execution_count": 1,
   "id": "d3b0ddb4",
   "metadata": {},
   "outputs": [
    {
     "name": "stdout",
     "output_type": "stream",
     "text": [
      "  Unnamed: 0    Hours       NO       SE       FI      DK   Nordic     EE  \\\n",
      "0   1.1.2016  00�-�01  15418.0  15432.0  10005.0  3159.0  44015.0  911.0   \n",
      "\n",
      "      LV      LT  Baltic  \n",
      "0  741.0  1029.0  2681.0  \n",
      "  Unnamed: 0    Hours       NO       SE      FI      DK   Nordic     EE  \\\n",
      "0   1.1.2017  00�-�01  14912.0  14208.0  9565.0  2815.0  41498.0  753.0   \n",
      "\n",
      "      LV     LT  Baltic  \n",
      "0  660.0  874.0  2287.0  \n",
      "  Unnamed: 0    Hours       NO       SE      FI      DK   Nordic     EE  \\\n",
      "0   1.1.2018  00�-�01  16989.0  15564.0  9715.0  3420.0  45688.0  827.0   \n",
      "\n",
      "      LV      LT  Baltic  \n",
      "0  663.0  1102.0  2592.0  \n",
      "  Unnamed: 0    Hours       NO       SE       FI      DK   Nordic     EE  \\\n",
      "0   1.1.2019  00�-�01  15724.0  14597.0  10467.0  3258.0  44046.0  842.0   \n",
      "\n",
      "      LV      LT  Baltic  \n",
      "0  678.0  1171.0  2691.0  \n",
      "  Unnamed: 0    Hours       NO       SE      FI      DK   Nordic     EE  \\\n",
      "0   1.1.2020  00�-�01  16151.0  14957.0  9548.0  3313.0  43970.0  805.0   \n",
      "\n",
      "      LV      LT  Baltic  \n",
      "0  657.0  1114.0  2576.0  \n",
      "  Unnamed: 0    Hours       NO       SE      FI      DK   Nordic     EE  \\\n",
      "0   1.1.2021  00�-�01  17207.0  15678.0  9508.0  3481.0  45875.0  837.0   \n",
      "\n",
      "      LV      LT  Baltic  \n",
      "0  657.0  1141.0  2635.0  \n"
     ]
    }
   ],
   "source": [
    "import pandas as pd\n",
    "\n",
    "consumption_2016 = pd.read_csv('.\\\\data\\\\consumption-per-country_2016_hourly.csv', delimiter=';')\n",
    "consumption_2017 = pd.read_csv('.\\\\data\\\\consumption-per-country_2017_hourly.csv', delimiter=';')\n",
    "consumption_2018 = pd.read_csv('.\\\\data\\\\consumption-per-country_2018_hourly.csv', delimiter=';')\n",
    "consumption_2019 = pd.read_csv('.\\\\data\\\\consumption-per-country_2019_hourly.csv', delimiter=';')\n",
    "consumption_2020 = pd.read_csv('.\\\\data\\\\consumption-per-country_2020_hourly.csv', delimiter=';')\n",
    "consumption_2021 = pd.read_csv('.\\\\data\\\\consumption-per-country_2021_hourly.csv', delimiter=';')\n",
    "\n",
    "print(consumption_2016.head(1))\n",
    "print(consumption_2017.head(1))\n",
    "print(consumption_2018.head(1))\n",
    "print(consumption_2019.head(1))\n",
    "print(consumption_2020.head(1))\n",
    "print(consumption_2021.head(1))\n"
   ]
  },
  {
   "cell_type": "markdown",
   "id": "ec42857a",
   "metadata": {},
   "source": [
    "Keep datetime information and filter out other than Finnish consumption data."
   ]
  },
  {
   "cell_type": "code",
   "execution_count": 2,
   "id": "16c78ba6",
   "metadata": {},
   "outputs": [
    {
     "name": "stdout",
     "output_type": "stream",
     "text": [
      "        Date    Hours  CONSUMP (MWh)\n",
      "0 2016-01-01  00�-�01        10005.0\n",
      "(49685, 3)\n"
     ]
    }
   ],
   "source": [
    "from datetime import datetime as dt\n",
    "\n",
    "# concat data\n",
    "df = pd.concat([\n",
    "    consumption_2016, \n",
    "    consumption_2017, \n",
    "    consumption_2018, \n",
    "    consumption_2019, \n",
    "    consumption_2020, \n",
    "    consumption_2021]\n",
    ")\n",
    "\n",
    "# drop columns and set column name for date information\n",
    "df = df.drop(['NO','SE','DK','Nordic','EE','LV','LT','Baltic'], axis=1, errors='ignore')\n",
    "df.columns.values[0] = 'Date'\n",
    "\n",
    "# rename consumption column\n",
    "df = df.rename(columns={'FI':'CONSUMP (MWh)'})\n",
    "\n",
    "# drop rows where date is more than 31.8.2021\n",
    "df['Date'] = pd.to_datetime(df['Date'], format='%d.%m.%Y')\n",
    "end = dt.strptime('01.09.2021', '%d.%m.%Y')\n",
    "df = df[df['Date'] < end]\n",
    "\n",
    "print(df.head(1))\n",
    "print(df.shape)"
   ]
  },
  {
   "cell_type": "markdown",
   "id": "8a4a1622",
   "metadata": {},
   "source": [
    "Clean the Hours column data. The data is in hh-hh format, but we would like the format in 0-23. So we only need the starting hour of the one hour time interval."
   ]
  },
  {
   "cell_type": "code",
   "execution_count": 3,
   "id": "bd22cddc",
   "metadata": {},
   "outputs": [
    {
     "name": "stdout",
     "output_type": "stream",
     "text": [
      "        Date  Hour  CONSUMP (MWh)\n",
      "0 2016-01-01     0        10005.0\n",
      "(49685, 3)\n"
     ]
    }
   ],
   "source": [
    "try:\n",
    "    df['Hours'] = df['Hours'].map(lambda hours_str: int(hours_str[0:2]))\n",
    "    df = df.rename(columns={'Hours':'Hour'})\n",
    "except:\n",
    "    pass\n",
    "    \n",
    "print(df.head(1))\n",
    "print(df.shape)"
   ]
  },
  {
   "cell_type": "markdown",
   "id": "edf27cb4",
   "metadata": {},
   "source": [
    "Write the clean data into csv-file."
   ]
  },
  {
   "cell_type": "code",
   "execution_count": 4,
   "id": "578a6257",
   "metadata": {},
   "outputs": [
    {
     "name": "stdout",
     "output_type": "stream",
     "text": [
      "Success\n"
     ]
    }
   ],
   "source": [
    "df.to_csv('electricity-consumption-FI_2016-2021_hourly.csv', sep=';', encoding='utf-8', index=False)\n",
    "print('Success')"
   ]
  },
  {
   "cell_type": "code",
   "execution_count": null,
   "id": "4694d8dc",
   "metadata": {},
   "outputs": [],
   "source": []
  }
 ],
 "metadata": {
  "kernelspec": {
   "display_name": "Python 3",
   "language": "python",
   "name": "python3"
  },
  "language_info": {
   "codemirror_mode": {
    "name": "ipython",
    "version": 3
   },
   "file_extension": ".py",
   "mimetype": "text/x-python",
   "name": "python",
   "nbconvert_exporter": "python",
   "pygments_lexer": "ipython3",
   "version": "3.8.8"
  }
 },
 "nbformat": 4,
 "nbformat_minor": 5
}

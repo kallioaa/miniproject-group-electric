{
 "cells": [
  {
   "cell_type": "markdown",
   "id": "5598b7cb",
   "metadata": {},
   "source": [
    "# Notebook for merging cleaned data together"
   ]
  },
  {
   "cell_type": "markdown",
   "id": "e313631e",
   "metadata": {},
   "source": [
    "Read data from the csv-files."
   ]
  },
  {
   "cell_type": "code",
   "execution_count": 27,
   "id": "d3b0ddb4",
   "metadata": {},
   "outputs": [
    {
     "name": "stdout",
     "output_type": "stream",
     "text": [
      "         Date  Hour  PRODUCTION (MWh)\n",
      "0  2016-01-01     0            7964.0\n",
      "49685\n",
      "         Date  Hour  CONSUMP (MWh)\n",
      "0  2016-01-01     0        10005.0\n",
      "49685\n",
      "         Date  Hour PRICE (EUR/MWh)\n",
      "0  2016-01-01     0           16,39\n",
      "49685\n"
     ]
    }
   ],
   "source": [
    "import pandas as pd\n",
    "\n",
    "elec_production = pd.read_csv('.\\\\data\\\\electricity-production-FI_2016-2021_hourly.csv', delimiter=';')\n",
    "elec_consumption = pd.read_csv('.\\\\data\\\\electricity-consumption-FI_2016-2021_hourly.csv', delimiter=';')\n",
    "elec_prices = pd.read_csv('.\\\\data\\\\electricity-prices-FI_2016-2021_hourly.csv', delimiter=';')\n",
    "\n",
    "# make sure that each dataframe has the same number of rows, and columns named Date and Hour\n",
    "print(elec_production.head(1))\n",
    "print(elec_production.shape[0])\n",
    "print(elec_consumption.head(1))\n",
    "print(elec_consumption.shape[0])\n",
    "print(elec_prices.head(1))\n",
    "print(elec_prices.shape[0])\n"
   ]
  },
  {
   "cell_type": "markdown",
   "id": "ec42857a",
   "metadata": {},
   "source": [
    "Merge data together by using datetime information."
   ]
  },
  {
   "cell_type": "code",
   "execution_count": 28,
   "id": "16c78ba6",
   "metadata": {},
   "outputs": [
    {
     "name": "stdout",
     "output_type": "stream",
     "text": [
      "         Date  Hour  PRODUCTION (MWh)  CONSUMP (MWh) PRICE (EUR/MWh)\n",
      "0  2016-01-01     0            7964.0        10005.0           16,39\n"
     ]
    }
   ],
   "source": [
    "from functools import reduce\n",
    "\n",
    "# here is a list of dataframes that needs to be combined\n",
    "data_frames = [\n",
    "    elec_production,\n",
    "    elec_consumption,\n",
    "    elec_prices,\n",
    "]\n",
    "\n",
    "# merge the frames by usind Date and Hour columns\n",
    "df = reduce(lambda  left,right: pd.merge(left,right,on=['Date', 'Hour'], how='outer'), data_frames)\n",
    "\n",
    "print(df.head(1))"
   ]
  },
  {
   "cell_type": "markdown",
   "id": "0792e8cb",
   "metadata": {},
   "source": [
    "Calculate weekdays. Each weekday is represented by a integer from 0 to 6, where Monday is 0 and Sunday is 6."
   ]
  },
  {
   "cell_type": "code",
   "execution_count": 29,
   "id": "0a512485",
   "metadata": {},
   "outputs": [
    {
     "name": "stdout",
     "output_type": "stream",
     "text": [
      "         Date  Hour  PRODUCTION (MWh)  CONSUMP (MWh) PRICE (EUR/MWh)  Weekday\n",
      "0  2016-01-01     0            7964.0        10005.0           16,39        4\n"
     ]
    }
   ],
   "source": [
    "from datetime import datetime\n",
    "\n",
    "def weekday_from_date(date_str):\n",
    "    date_time_obj = datetime.strptime(date_str, '%Y-%m-%d')\n",
    "    return date_time_obj.weekday()\n",
    "\n",
    "df['Weekday'] = df.apply(lambda row: weekday_from_date(row['Date']), axis=1)\n",
    "\n",
    "print(df.head(1))"
   ]
  },
  {
   "cell_type": "markdown",
   "id": "8353a174",
   "metadata": {},
   "source": [
    "Split date into three separate columns."
   ]
  },
  {
   "cell_type": "code",
   "execution_count": 31,
   "id": "45edb19f",
   "metadata": {},
   "outputs": [
    {
     "name": "stdout",
     "output_type": "stream",
     "text": [
      "   Year  Month  Day  Weekday  Hour  PRODUCTION (MWh)  CONSUMP (MWh)  \\\n",
      "0  2016      1    1        4     0            7964.0        10005.0   \n",
      "\n",
      "  PRICE (EUR/MWh)  \n",
      "0           16,39  \n"
     ]
    }
   ],
   "source": [
    "def year_from_date(date_str):\n",
    "    date_time_obj = datetime.strptime(date_str, '%Y-%m-%d')\n",
    "    return date_time_obj.year\n",
    "\n",
    "def month_from_date(date_str):\n",
    "    date_time_obj = datetime.strptime(date_str, '%Y-%m-%d')\n",
    "    return date_time_obj.month\n",
    "\n",
    "def day_from_date(date_str):\n",
    "    date_time_obj = datetime.strptime(date_str, '%Y-%m-%d')\n",
    "    return date_time_obj.day\n",
    "\n",
    "if 'Date' in df:\n",
    "    df['Year'] = df.apply(lambda row: year_from_date(row['Date']), axis=1)\n",
    "    df['Month'] = df.apply(lambda row: month_from_date(row['Date']), axis=1)\n",
    "    df['Day'] = df.apply(lambda row: day_from_date(row['Date']), axis=1)\n",
    "\n",
    "# remove date column that is no longer needed\n",
    "df = df.drop(['Date'], errors='ignore', axis=1)\n",
    "\n",
    "# reoder the columns\n",
    "cols = list(df)\n",
    "cols.insert(0, cols.pop(cols.index('Weekday')))\n",
    "cols.insert(0, cols.pop(cols.index('Day')))\n",
    "cols.insert(0, cols.pop(cols.index('Month')))\n",
    "cols.insert(0, cols.pop(cols.index('Year')))\n",
    "df = df.loc[:,cols]\n",
    "\n",
    "print(df.head(1))"
   ]
  },
  {
   "cell_type": "markdown",
   "id": "edf27cb4",
   "metadata": {},
   "source": [
    "Write the merged data into csv-file."
   ]
  },
  {
   "cell_type": "code",
   "execution_count": 10,
   "id": "578a6257",
   "metadata": {},
   "outputs": [
    {
     "name": "stdout",
     "output_type": "stream",
     "text": [
      "Success\n"
     ]
    }
   ],
   "source": [
    "df.to_csv('data_2016-2021_hourly.csv', sep=';', encoding='utf-8', index=False)\n",
    "print('Success')"
   ]
  },
  {
   "cell_type": "code",
   "execution_count": null,
   "id": "4694d8dc",
   "metadata": {},
   "outputs": [],
   "source": []
  }
 ],
 "metadata": {
  "kernelspec": {
   "display_name": "Python 3",
   "language": "python",
   "name": "python3"
  },
  "language_info": {
   "codemirror_mode": {
    "name": "ipython",
    "version": 3
   },
   "file_extension": ".py",
   "mimetype": "text/x-python",
   "name": "python",
   "nbconvert_exporter": "python",
   "pygments_lexer": "ipython3",
   "version": "3.8.8"
  }
 },
 "nbformat": 4,
 "nbformat_minor": 5
}

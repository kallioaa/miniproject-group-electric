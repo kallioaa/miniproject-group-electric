{
 "cells": [
  {
   "cell_type": "markdown",
   "id": "5598b7cb",
   "metadata": {},
   "source": [
    "# Notebook for cleaning the electricity price data"
   ]
  },
  {
   "cell_type": "markdown",
   "id": "e313631e",
   "metadata": {},
   "source": [
    "Read data from the csv-files. Original data was xls-files, but there was something wrong with the file format. It seems that it was actually an HTML file and not a proper xls-file. We manually converted to xls-files in to csv-files in order to be able to read them."
   ]
  },
  {
   "cell_type": "code",
   "execution_count": 1,
   "id": "d3b0ddb4",
   "metadata": {},
   "outputs": [
    {
     "name": "stdout",
     "output_type": "stream",
     "text": [
      "  Unnamed: 0    Hours    SYS    SE1    SE2    SE3    SE4     FI    DK1    DK2  \\\n",
      "0   1.1.2016  00�-�01  16,39  16,39  16,39  16,39  16,39  16,39  16,39  16,39   \n",
      "\n",
      "    Oslo Kr.sand Bergen  Molde Tr.heim Troms�     EE     LV     LT  FRE  \n",
      "0  16,39   16,39  16,39  16,39   16,39  16,39  16,39  28,11  28,11  NaN  \n",
      "  Unnamed: 0    Hours   SYS    SE1    SE2    SE3    SE4     FI    DK1    DK2  \\\n",
      "0   1.1.2017  00�-�01  25,7  24,03  24,03  24,03  24,03  24,03  20,96  20,96   \n",
      "\n",
      "   Oslo Kr.sand Bergen  Molde Tr.heim Troms�     EE     LV     LT  \n",
      "0  28,4    28,4   28,4  24,03   24,03  24,03  24,03  24,03  24,03  \n",
      "  Unnamed: 0    Hours    SYS    SE1    SE2    SE3    SE4     FI   DK1    DK2  \\\n",
      "0   1.1.2018  00�-�01  26,31  26,33  26,33  26,33  26,33  26,33  21,8  26,33   \n",
      "\n",
      "    Oslo Kr.sand Bergen  Molde Tr.heim Troms�     EE     LV     LT  \n",
      "0  26,33   26,33  26,33  26,33   26,33  26,33  26,33  26,33  26,33  \n",
      "  Unnamed: 0    Hours    SYS    SE1    SE2    SE3    SE4     FI    DK1    DK2  \\\n",
      "0   1.1.2019  00�-�01  44,55  28,32  28,32  28,32  28,32  28,32  28,32  28,32   \n",
      "\n",
      "   ...  AT AT.1  BE BE.1 DE-LU DE-LU.1  FR FR.1  NL NL.1  \n",
      "0  ... NaN  NaN NaN  NaN   NaN     NaN NaN  NaN NaN  NaN  \n",
      "\n",
      "[1 rows x 32 columns]\n",
      "  Unnamed: 0    Hours    SYS    SE1    SE2    SE3    SE4     FI    DK1    DK2  \\\n",
      "0   1.1.2020  00�-�01  30,84  28,78  28,78  28,78  28,78  28,78  33,42  33,42   \n",
      "\n",
      "   ...   AT   AT.1   BE   BE.1 DE-LU DE-LU.1   FR   FR.1   NL   NL.1  \n",
      "0  ...  NaN  41,88  NaN  41,88   NaN   41,88  NaN  41,88  NaN  41,88  \n",
      "\n",
      "[1 rows x 32 columns]\n",
      "  Unnamed: 0    Hours    SYS    SE1    SE2    SE3    SE4     FI    DK1    DK2  \\\n",
      "0   1.1.2021  00�-�01  24,74  24,95  24,95  24,95  24,95  24,95  50,87  50,87   \n",
      "\n",
      "   ... Tr.heim Troms�     EE     LV     LT     AT     BE  DE-LU     FR     NL  \n",
      "0  ...   23,77  18,65  24,95  24,95  24,95  50,87  50,87  50,87  50,87  50,87  \n",
      "\n",
      "[1 rows x 24 columns]\n"
     ]
    }
   ],
   "source": [
    "import pandas as pd\n",
    "\n",
    "prices_2016 = pd.read_csv('.\\\\data\\\\elspot-prices_2016_hourly_eur.csv', delimiter=';')\n",
    "prices_2017 = pd.read_csv('.\\\\data\\\\elspot-prices_2017_hourly_eur.csv', delimiter=';')\n",
    "prices_2018 = pd.read_csv('.\\\\data\\\\elspot-prices_2018_hourly_eur.csv', delimiter=';')\n",
    "prices_2019 = pd.read_csv('.\\\\data\\\\elspot-prices_2019_hourly_eur.csv', delimiter=';')\n",
    "prices_2020 = pd.read_csv('.\\\\data\\\\elspot-prices_2020_hourly_eur.csv', delimiter=';')\n",
    "prices_2021 = pd.read_csv('.\\\\data\\\\elspot-prices_2021_hourly_eur.csv', delimiter=';')\n",
    "\n",
    "print(prices_2016.head(1))\n",
    "print(prices_2017.head(1))\n",
    "print(prices_2018.head(1))\n",
    "print(prices_2019.head(1))\n",
    "print(prices_2020.head(1))\n",
    "print(prices_2021.head(1))\n"
   ]
  },
  {
   "cell_type": "markdown",
   "id": "ec42857a",
   "metadata": {},
   "source": [
    "Keep datetime information and filter out other than Finnish price data."
   ]
  },
  {
   "cell_type": "code",
   "execution_count": 2,
   "id": "16c78ba6",
   "metadata": {},
   "outputs": [
    {
     "name": "stdout",
     "output_type": "stream",
     "text": [
      "        Date    Hours PRICE (EUR/MWh)\n",
      "0 2016-01-01  00�-�01           16,39\n",
      "(49685, 3)\n"
     ]
    }
   ],
   "source": [
    "from datetime import datetime as dt\n",
    "\n",
    "# rename date information column\n",
    "prices_2016 = prices_2016.rename(columns={'Unnamed: 0':'Date'})\n",
    "prices_2017 = prices_2017.rename(columns={'Unnamed: 0':'Date'})\n",
    "prices_2018 = prices_2018.rename(columns={'Unnamed: 0':'Date'})\n",
    "prices_2019 = prices_2019.rename(columns={'Unnamed: 0':'Date'})\n",
    "prices_2020 = prices_2020.rename(columns={'Unnamed: 0':'Date'})\n",
    "prices_2021 = prices_2021.rename(columns={'Unnamed: 0':'Date'})\n",
    "\n",
    "\n",
    "# keep only columns that are needed\n",
    "prices_2016 = prices_2016[['Date', 'Hours', 'FI']]\n",
    "prices_2017 = prices_2017[['Date', 'Hours', 'FI']]\n",
    "prices_2018 = prices_2018[['Date', 'Hours', 'FI']]\n",
    "prices_2019 = prices_2019[['Date', 'Hours', 'FI']]\n",
    "prices_2020 = prices_2020[['Date', 'Hours', 'FI']]\n",
    "prices_2021 = prices_2021[['Date', 'Hours', 'FI']]\n",
    "\n",
    "# concat data\n",
    "df = pd.concat([\n",
    "    prices_2016, \n",
    "    prices_2017, \n",
    "    prices_2018, \n",
    "    prices_2019, \n",
    "    prices_2020, \n",
    "    prices_2021]\n",
    ")\n",
    "\n",
    "# rename consumption column\n",
    "df = df.rename(columns={'FI':'PRICE (EUR/MWh)'})\n",
    "\n",
    "# drop rows where date is more than 31.8.2021\n",
    "df['Date'] = pd.to_datetime(df['Date'], format='%d.%m.%Y')\n",
    "end = dt.strptime('01.09.2021', '%d.%m.%Y')\n",
    "df = df[df['Date'] < end]\n",
    "\n",
    "print(df.head(1))\n",
    "print(df.shape)"
   ]
  },
  {
   "cell_type": "markdown",
   "id": "8a4a1622",
   "metadata": {},
   "source": [
    "Clean the Hours column data. The data is in hh-hh format, but we would like the format in 0-23. So we only need the starting hour of the one hour time interval."
   ]
  },
  {
   "cell_type": "code",
   "execution_count": 3,
   "id": "bd22cddc",
   "metadata": {},
   "outputs": [
    {
     "name": "stdout",
     "output_type": "stream",
     "text": [
      "        Date  Hour PRICE (EUR/MWh)\n",
      "0 2016-01-01     0           16,39\n",
      "(49685, 3)\n"
     ]
    }
   ],
   "source": [
    "try:\n",
    "    df['Hours'] = df['Hours'].map(lambda hours_str: int(hours_str[0:2]))\n",
    "    df = df.rename(columns={'Hours':'Hour'})\n",
    "except:\n",
    "    pass\n",
    "    \n",
    "print(df.head(1))\n",
    "print(df.shape)"
   ]
  },
  {
   "cell_type": "markdown",
   "id": "edf27cb4",
   "metadata": {},
   "source": [
    "Write the clean data into csv-file."
   ]
  },
  {
   "cell_type": "code",
   "execution_count": 4,
   "id": "578a6257",
   "metadata": {},
   "outputs": [
    {
     "name": "stdout",
     "output_type": "stream",
     "text": [
      "Success\n"
     ]
    }
   ],
   "source": [
    "df.to_csv('electricity-prices-FI_2016-2021_hourly.csv', sep=';', encoding='utf-8', index=False)\n",
    "print('Success')"
   ]
  },
  {
   "cell_type": "code",
   "execution_count": null,
   "id": "4694d8dc",
   "metadata": {},
   "outputs": [],
   "source": []
  }
 ],
 "metadata": {
  "kernelspec": {
   "display_name": "Python 3",
   "language": "python",
   "name": "python3"
  },
  "language_info": {
   "codemirror_mode": {
    "name": "ipython",
    "version": 3
   },
   "file_extension": ".py",
   "mimetype": "text/x-python",
   "name": "python",
   "nbconvert_exporter": "python",
   "pygments_lexer": "ipython3",
   "version": "3.8.8"
  }
 },
 "nbformat": 4,
 "nbformat_minor": 5
}

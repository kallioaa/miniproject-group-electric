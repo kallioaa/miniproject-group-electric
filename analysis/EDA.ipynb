{
 "cells": [
  {
   "cell_type": "code",
   "execution_count": null,
   "id": "536c8e9c",
   "metadata": {},
   "outputs": [],
   "source": [
    "import sklearn\n",
    "import numpy as np\n",
    "import pandas as pd\n",
    "\n",
    "import seaborn as sns\n",
    "import matplotlib.pyplot as plt"
   ]
  },
  {
   "cell_type": "code",
   "execution_count": null,
   "id": "1bd85ddc",
   "metadata": {},
   "outputs": [],
   "source": [
    "data = pd.read_csv(\"../cleaning/electricity-production/data_2016-2021_hourly.csv\", sep=\";\")"
   ]
  },
  {
   "cell_type": "code",
   "execution_count": null,
   "id": "8a37bdf4",
   "metadata": {},
   "outputs": [],
   "source": [
    "#formatting price and datetime columns\n",
    "\n",
    "pd.set_option(\"display.max_columns\", None)\n",
    "\n",
    "data['PRICE (EUR/MWh)'] = data['PRICE (EUR/MWh)'].str.replace(',', '.').astype('float')\n",
    "\n",
    "#data['Hour'] = pd.to_datetime(data['Hour'], format='%H')\n",
    "\n",
    "cols=[\"Year\",\"Month\",\"Day\"]\n",
    "data['Datetime'] = data[cols].apply(lambda x: '-'.join(x.values.astype(str)), axis=\"columns\")\n",
    "data[\"Datetime\"] = data[\"Datetime\"] + \" \" + data[\"Hour\"].astype(str) + \":00:00\"\n",
    "\n",
    "data['Datetime']=pd.to_datetime(data['Datetime'])\n",
    "\n",
    "data.head()"
   ]
  },
  {
   "cell_type": "code",
   "execution_count": null,
   "id": "f4749682",
   "metadata": {},
   "outputs": [],
   "source": [
    "data.describe().round(2)"
   ]
  },
  {
   "cell_type": "code",
   "execution_count": null,
   "id": "af211142",
   "metadata": {},
   "outputs": [],
   "source": [
    "#renaming columns for time series df\n",
    "cols = list(data.columns)\n",
    "new_col_names = list()\n",
    "t2 = list()\n",
    "\n",
    "for col in cols:\n",
    "    new_col_names.append(col+' (t-1)')\n",
    "\n",
    "for col in cols:\n",
    "    new_col_names.append(col+' (t)')\n"
   ]
  },
  {
   "cell_type": "code",
   "execution_count": null,
   "id": "b91f3b61",
   "metadata": {},
   "outputs": [],
   "source": [
    "#timeseries df\n",
    "\n",
    "data_ts = series_to_supervised(data)\n",
    "\n",
    "data_ts.columns = new_col_names\n",
    "\n",
    "pd.set_option(\"display.max_columns\", None)\n",
    "\n",
    "data_ts.head()"
   ]
  }
 ],
 "metadata": {
  "kernelspec": {
   "display_name": "Python 3 (ipykernel)",
   "language": "python",
   "name": "python3"
  },
  "language_info": {
   "codemirror_mode": {
    "name": "ipython",
    "version": 3
   },
   "file_extension": ".py",
   "mimetype": "text/x-python",
   "name": "python",
   "nbconvert_exporter": "python",
   "pygments_lexer": "ipython3",
   "version": "3.9.7"
  }
 },
 "nbformat": 4,
 "nbformat_minor": 5
}

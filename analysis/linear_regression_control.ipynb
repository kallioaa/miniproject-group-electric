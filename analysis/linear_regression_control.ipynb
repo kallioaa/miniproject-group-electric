{
 "cells": [
  {
   "cell_type": "markdown",
   "id": "166ec93f-d96f-4bb3-94af-9c0f31b3ff0d",
   "metadata": {},
   "source": [
    "# Simple Linear Regression Test"
   ]
  },
  {
   "cell_type": "code",
   "execution_count": 5,
   "id": "cba5bc2e-c1b8-41dd-a343-e3a08f0843e0",
   "metadata": {},
   "outputs": [],
   "source": [
    "import sklearn\n",
    "import numpy as np\n",
    "import pandas as pd"
   ]
  },
  {
   "cell_type": "code",
   "execution_count": 6,
   "id": "c39a64c6-d7f7-4551-bf42-86a6cf44e2d3",
   "metadata": {},
   "outputs": [],
   "source": [
    "# importing helper functions\n",
    "%run helper_functions.ipynb "
   ]
  },
  {
   "cell_type": "code",
   "execution_count": 14,
   "id": "8bdddafc-39ea-4585-85d6-3693ec5e4f61",
   "metadata": {},
   "outputs": [
    {
     "name": "stderr",
     "output_type": "stream",
     "text": [
      "/Users/aatukallio/opt/anaconda3/envs/introduction_to_data_science_env/lib/python3.9/site-packages/IPython/core/interactiveshell.py:3441: DtypeWarning: Columns (0,1,2,5,6,7,8,9,10,11,12,13,14,15,16) have mixed types.Specify dtype option on import or set low_memory=False.\n",
      "  exec(code_obj, self.user_global_ns, self.user_ns)\n"
     ]
    }
   ],
   "source": [
    "# importing dataframes\n",
    "\n",
    "consumption_df = pd.read_csv(\"../cleaning/electricity-consumption/electricity-consumption-FI_2016-2021_hourly.csv\", sep=\";\")\n",
    "prices_df = pd.read_csv(\"../cleaning/electricity-prices/electricity-prices-FI_2016-2021_hourly.csv\", sep=\";\")\n",
    "weather_df = pd.read_csv(\"../cleaning/weather/weather_data_10_stations_2016_2017.csv\", sep=\";\")\n",
    "production_df = pd.read_csv(\"../cleaning/electricity-production/electricity-production-FI_2016-2021_hourly.csv\", sep=\";\")"
   ]
  }
 ],
 "metadata": {
  "kernelspec": {
   "display_name": "Python 3 (ipykernel)",
   "language": "python",
   "name": "python3"
  },
  "language_info": {
   "codemirror_mode": {
    "name": "ipython",
    "version": 3
   },
   "file_extension": ".py",
   "mimetype": "text/x-python",
   "name": "python",
   "nbconvert_exporter": "python",
   "pygments_lexer": "ipython3",
   "version": "3.9.7"
  }
 },
 "nbformat": 4,
 "nbformat_minor": 5
}

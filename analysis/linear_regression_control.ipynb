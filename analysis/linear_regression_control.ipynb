{
 "cells": [
  {
   "cell_type": "markdown",
   "id": "166ec93f-d96f-4bb3-94af-9c0f31b3ff0d",
   "metadata": {},
   "source": [
    "# Simple Linear Regression Test"
   ]
  },
  {
   "cell_type": "code",
   "execution_count": 414,
   "id": "cba5bc2e-c1b8-41dd-a343-e3a08f0843e0",
   "metadata": {},
   "outputs": [],
   "source": [
    "from sklearn.ensemble import RandomForestRegressor\n",
    "from sklearn.linear_model import LinearRegression\n",
    "from sklearn.model_selection import train_test_split\n",
    "import numpy as np\n",
    "import pandas as pd"
   ]
  },
  {
   "cell_type": "code",
   "execution_count": 416,
   "id": "c39a64c6-d7f7-4551-bf42-86a6cf44e2d3",
   "metadata": {},
   "outputs": [],
   "source": [
    "# importing helper functions\n",
    "%run helper_functions.ipynb "
   ]
  },
  {
   "cell_type": "code",
   "execution_count": 417,
   "id": "5aedae0e-fe53-4e49-8519-848ec6134288",
   "metadata": {},
   "outputs": [],
   "source": [
    "# importing dataframes\n",
    "data_df = pd.read_csv(\"../data/data_2016-2021_hourly.csv\", sep=\";\")"
   ]
  },
  {
   "cell_type": "code",
   "execution_count": 418,
   "id": "10c30301-fa20-439b-9a1f-7cf941199d83",
   "metadata": {},
   "outputs": [],
   "source": [
    "# replacing every , with . in the data\n",
    "data_df = data_df.apply(lambda col: col.astype(str).str.replace(\",\",\".\"))\n",
    "data_df = data_df.astype(\"float32\")"
   ]
  },
  {
   "cell_type": "code",
   "execution_count": 419,
   "id": "1df6ec69-4fb0-46f6-aa77-6f7804823085",
   "metadata": {},
   "outputs": [],
   "source": [
    "X = data_df.drop(columns=[\"Year\", \"Month\",\"Day\", \"Weekday\", \"Hour\"], axis=1)\n",
    "X = series_to_supervised(X, n_in=6,n_out=0, dropnan=False)"
   ]
  },
  {
   "cell_type": "code",
   "execution_count": 420,
   "id": "ff380fb2-34b1-4588-8ab1-3708520c3921",
   "metadata": {},
   "outputs": [],
   "source": [
    "y = data_df[\"PRICE (EUR/MWh)\"] # dropping the first six"
   ]
  },
  {
   "cell_type": "code",
   "execution_count": 421,
   "id": "aa06950f-89d4-4076-8894-895bfcf02898",
   "metadata": {},
   "outputs": [],
   "source": [
    "# selecting only rows wihtout nan\n",
    "valid_rows = ~((X.isna().any(axis=1)) | (y.isna()))\n",
    "X = X[valid_rows]\n",
    "y = y[valid_rows]"
   ]
  },
  {
   "cell_type": "code",
   "execution_count": 422,
   "id": "4e3a9cc3-48e6-4220-8759-4cd6539faded",
   "metadata": {},
   "outputs": [],
   "source": [
    "X_train, X_test, y_train, y_test = train_test_split(X, y)"
   ]
  },
  {
   "cell_type": "markdown",
   "id": "e7155e12-d112-4447-aa11-be6a2df64624",
   "metadata": {},
   "source": [
    "## Random forest regressor"
   ]
  },
  {
   "cell_type": "code",
   "execution_count": null,
   "id": "723bbf3e-1b6c-4483-8c29-bc2f39afaec9",
   "metadata": {},
   "outputs": [],
   "source": [
    "# create model and train it\n",
    "regr_random_forest = RandomForestRegressor()\n",
    "regr_random_forest.fit(X_train, y_train)"
   ]
  },
  {
   "cell_type": "code",
   "execution_count": 397,
   "id": "ad9aefe0-ec35-483e-82c9-24d7992a62f9",
   "metadata": {},
   "outputs": [
    {
     "data": {
      "text/plain": [
       "0.8865940932257202"
      ]
     },
     "execution_count": 413,
     "metadata": {},
     "output_type": "execute_result"
    }
   ],
   "source": [
    "regr_random_forest.score(X_test, y_test)"
   ]
  },
  {
   "cell_type": "markdown",
   "id": "0bf191f8-520b-42be-803e-e931026a731a",
   "metadata": {},
   "source": [
    "## Linear regressor"
   ]
  },
  {
   "cell_type": "code",
   "execution_count": null,
   "id": "97a17193-3e68-4545-bf9f-bfc85ed69229",
   "metadata": {},
   "outputs": [],
   "source": [
    "# create model and train it\n",
    "regr_linear = RandomForestRegressor()\n",
    "regr_linear.fit(X_train, y_train)"
   ]
  },
  {
   "cell_type": "code",
   "execution_count": null,
   "id": "c8ef58f2-98a4-455f-af86-82a08919d637",
   "metadata": {},
   "outputs": [],
   "source": [
    "regr_linear.score(X_test, y_test)"
   ]
  }
 ],
 "metadata": {
  "kernelspec": {
   "display_name": "Python 3 (ipykernel)",
   "language": "python",
   "name": "python3"
  },
  "language_info": {
   "codemirror_mode": {
    "name": "ipython",
    "version": 3
   },
   "file_extension": ".py",
   "mimetype": "text/x-python",
   "name": "python",
   "nbconvert_exporter": "python",
   "pygments_lexer": "ipython3",
   "version": "3.9.7"
  }
 },
 "nbformat": 4,
 "nbformat_minor": 5
}
